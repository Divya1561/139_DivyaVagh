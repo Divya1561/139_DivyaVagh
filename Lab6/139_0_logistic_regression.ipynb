{
  "nbformat": 4,
  "nbformat_minor": 0,
  "metadata": {
    "colab": {
      "name": "139_0_logistic_regression.ipynb",
      "provenance": [],
      "authorship_tag": "ABX9TyObI3Bom61Y3eFOkRuGvSnP"
    },
    "kernelspec": {
      "name": "python3",
      "display_name": "Python 3"
    },
    "language_info": {
      "name": "python"
    }
  },
  "cells": [
    {
      "cell_type": "code",
      "metadata": {
        "colab": {
          "base_uri": "https://localhost:8080/"
        },
        "id": "_qiZuZLwpiqP",
        "outputId": "2764064e-9b39-445c-c8ed-93e5ba10a2af"
      },
      "source": [
        "from google.colab import drive\n",
        "drive.mount('/content/drive')"
      ],
      "execution_count": 2,
      "outputs": [
        {
          "output_type": "stream",
          "name": "stdout",
          "text": [
            "Mounted at /content/drive\n"
          ]
        }
      ]
    },
    {
      "cell_type": "code",
      "metadata": {
        "id": "Aoq3MNg7pT6E"
      },
      "source": [
        "#Importing libraries\n",
        "import numpy as np \n",
        "import pandas as pd \n",
        "import io\n",
        "import matplotlib.pyplot as plt"
      ],
      "execution_count": 3,
      "outputs": []
    },
    {
      "cell_type": "markdown",
      "metadata": {
        "id": "GN4bjMc2pzsE"
      },
      "source": [
        "Load & Process Data"
      ]
    },
    {
      "cell_type": "code",
      "metadata": {
        "colab": {
          "base_uri": "https://localhost:8080/",
          "height": 203
        },
        "id": "JZDD4mSqpz97",
        "outputId": "6c99fcd8-db16-467b-8854-718feaaa92a7"
      },
      "source": [
        "data = pd.read_csv('/content/drive/MyDrive/Colab Notebooks/ML/Lab6/BuyComputer.csv')\n",
        "\n",
        "data.drop(columns=['User ID',],axis=1,inplace=True)\n",
        "data.head()"
      ],
      "execution_count": 5,
      "outputs": [
        {
          "output_type": "execute_result",
          "data": {
            "text/html": [
              "<div>\n",
              "<style scoped>\n",
              "    .dataframe tbody tr th:only-of-type {\n",
              "        vertical-align: middle;\n",
              "    }\n",
              "\n",
              "    .dataframe tbody tr th {\n",
              "        vertical-align: top;\n",
              "    }\n",
              "\n",
              "    .dataframe thead th {\n",
              "        text-align: right;\n",
              "    }\n",
              "</style>\n",
              "<table border=\"1\" class=\"dataframe\">\n",
              "  <thead>\n",
              "    <tr style=\"text-align: right;\">\n",
              "      <th></th>\n",
              "      <th>Age</th>\n",
              "      <th>EstimatedSalary</th>\n",
              "      <th>Purchased</th>\n",
              "    </tr>\n",
              "  </thead>\n",
              "  <tbody>\n",
              "    <tr>\n",
              "      <th>0</th>\n",
              "      <td>19</td>\n",
              "      <td>19000</td>\n",
              "      <td>0</td>\n",
              "    </tr>\n",
              "    <tr>\n",
              "      <th>1</th>\n",
              "      <td>35</td>\n",
              "      <td>20000</td>\n",
              "      <td>0</td>\n",
              "    </tr>\n",
              "    <tr>\n",
              "      <th>2</th>\n",
              "      <td>26</td>\n",
              "      <td>43000</td>\n",
              "      <td>0</td>\n",
              "    </tr>\n",
              "    <tr>\n",
              "      <th>3</th>\n",
              "      <td>27</td>\n",
              "      <td>57000</td>\n",
              "      <td>0</td>\n",
              "    </tr>\n",
              "    <tr>\n",
              "      <th>4</th>\n",
              "      <td>19</td>\n",
              "      <td>76000</td>\n",
              "      <td>0</td>\n",
              "    </tr>\n",
              "  </tbody>\n",
              "</table>\n",
              "</div>"
            ],
            "text/plain": [
              "   Age  EstimatedSalary  Purchased\n",
              "0   19            19000          0\n",
              "1   35            20000          0\n",
              "2   26            43000          0\n",
              "3   27            57000          0\n",
              "4   19            76000          0"
            ]
          },
          "metadata": {},
          "execution_count": 5
        }
      ]
    },
    {
      "cell_type": "code",
      "metadata": {
        "colab": {
          "base_uri": "https://localhost:8080/"
        },
        "id": "WGE4m26eqR84",
        "outputId": "2b4360a4-62ec-4abb-f543-97d362df2a48"
      },
      "source": [
        "#Declare label as last column in the source file\n",
        "Labels = data['Purchased']\n",
        "Labels"
      ],
      "execution_count": 7,
      "outputs": [
        {
          "output_type": "execute_result",
          "data": {
            "text/plain": [
              "0      0\n",
              "1      0\n",
              "2      0\n",
              "3      0\n",
              "4      0\n",
              "      ..\n",
              "395    1\n",
              "396    1\n",
              "397    1\n",
              "398    0\n",
              "399    1\n",
              "Name: Purchased, Length: 400, dtype: int64"
            ]
          },
          "metadata": {},
          "execution_count": 7
        }
      ]
    },
    {
      "cell_type": "code",
      "metadata": {
        "id": "rGIsUusZqWLv"
      },
      "source": [
        "#Declaring X as all columns excluding last\n",
        "X = data.iloc[:,:2]"
      ],
      "execution_count": 8,
      "outputs": []
    },
    {
      "cell_type": "code",
      "metadata": {
        "id": "XdVBJKEuqZ0Y"
      },
      "source": [
        "# Splitting data\n",
        "from sklearn.model_selection import train_test_split\n",
        "X_train, X_test, y_train, y_test = train_test_split(X,Labels,random_state=139,test_size=0.3)"
      ],
      "execution_count": 9,
      "outputs": []
    },
    {
      "cell_type": "code",
      "metadata": {
        "id": "4sDcYt_aqgyr"
      },
      "source": [
        "# Sacaling data\n",
        "from sklearn.preprocessing import StandardScaler\n",
        "sc = StandardScaler()\n",
        "X_train = sc.fit_transform(X_train)\n",
        "X_test = sc.fit_transform(X_test)"
      ],
      "execution_count": 10,
      "outputs": []
    },
    {
      "cell_type": "code",
      "metadata": {
        "colab": {
          "base_uri": "https://localhost:8080/"
        },
        "id": "3cBqaojTqlmm",
        "outputId": "5f35ef0c-3fec-4999-8135-1d2650c473be"
      },
      "source": [
        "X_test.mean(axis=0)"
      ],
      "execution_count": 11,
      "outputs": [
        {
          "output_type": "execute_result",
          "data": {
            "text/plain": [
              "array([-1.18423789e-16, -7.40148683e-18])"
            ]
          },
          "metadata": {},
          "execution_count": 11
        }
      ]
    },
    {
      "cell_type": "markdown",
      "metadata": {
        "id": "jQC0lFMeqqhe"
      },
      "source": [
        "**Define Functions**\n",
        "\n",
        "sigmoid(Z)\n",
        "\n",
        "predict(X,Theta,Theta0)\n",
        "\n",
        "hypothesis(X,Theta)\n",
        "\n",
        "cost(Y)\n",
        "\n",
        "sigmoid(z)"
      ]
    },
    {
      "cell_type": "code",
      "metadata": {
        "id": "m_y_xg2nqy7a"
      },
      "source": [
        "class myLogisticReg: \n",
        "    __sigmoid = lambda self,z :1/(1+pow(np.e,-z))\n",
        "    __loss_func = lambda self,Y,Y_pred : -((Y)@(np.log(Y_pred).T) + (1-Y)@(np.log(1-Y_pred).T))\n",
        "    __Wgrad = lambda self,Y,Y_pred,X : (Y_pred-Y)@X\n",
        "    __bgrad = lambda self,Y,Y_pred : (Y_pred-Y).sum()\n",
        "    \n",
        "    W,b = None,None\n",
        "    def __init__(self):\n",
        "        pass\n",
        "\n",
        "    def fit(self,X,Y,epoch=100,alpha = 1e-3,lmd=1):\n",
        "        self.W = np.random.randn(X.shape[1])\n",
        "        self.b = np.random.random()\n",
        "        \n",
        "        \n",
        "        for e in range(epoch):\n",
        "            pred = self.predict(X)\n",
        "            cost = self.__loss_func(Y,pred)\n",
        "            print(f\"{e+1} : cost = {cost}\")\n",
        "            self.W-=alpha*(self.__Wgrad(Y,pred,X)+lmd*self.W)\n",
        "            self.b-=alpha*self.__bgrad(Y,pred)\n",
        "#             print(self.W,self.b)\n",
        "        return self\n",
        "            \n",
        "    \n",
        "    def predict(self,X_test):\n",
        "        if self.W is None:\n",
        "            raise Exception(\"model is not fitted yet!\")\n",
        "#         print(\"------------>\",self.W.shape,self.b,\"<-------------------\")\n",
        "        Z = X_test@(self.W.T)+self.b\n",
        "        predictions = self.__sigmoid(Z)\n",
        "        return predictions"
      ],
      "execution_count": 12,
      "outputs": []
    },
    {
      "cell_type": "code",
      "metadata": {
        "colab": {
          "base_uri": "https://localhost:8080/"
        },
        "id": "1wq9TV3nrG0J",
        "outputId": "43e84e79-f00d-42c7-fee8-abb8496682a1"
      },
      "source": [
        "np.random.random()"
      ],
      "execution_count": 13,
      "outputs": [
        {
          "output_type": "execute_result",
          "data": {
            "text/plain": [
              "0.06752230623076638"
            ]
          },
          "metadata": {},
          "execution_count": 13
        }
      ]
    },
    {
      "cell_type": "code",
      "metadata": {
        "colab": {
          "base_uri": "https://localhost:8080/"
        },
        "id": "5g2EfVgErLjR",
        "outputId": "e13c4c50-1d18-4579-c5ac-7dd9993bc921"
      },
      "source": [
        "mymodel = myLogisticReg()\n",
        "mymodel.fit(X_train,y_train,alpha=1e-2,epoch=50)"
      ],
      "execution_count": 14,
      "outputs": [
        {
          "output_type": "stream",
          "name": "stdout",
          "text": [
            "1 : cost = 412.26505703152264\n",
            "2 : cost = 175.12469086550206\n",
            "3 : cost = 123.44336078608788\n",
            "4 : cost = 110.68520013159282\n",
            "5 : cost = 105.42042044902561\n",
            "6 : cost = 102.60005879929581\n",
            "7 : cost = 100.85945261640825\n",
            "8 : cost = 99.69118762800244\n",
            "9 : cost = 98.86337046268201\n",
            "10 : cost = 98.25418256313526\n",
            "11 : cost = 97.7931237499597\n",
            "12 : cost = 97.43646228101179\n",
            "13 : cost = 97.15563985932275\n",
            "14 : cost = 96.93125695498688\n",
            "15 : cost = 96.74971778216515\n",
            "16 : cost = 96.60124889709277\n",
            "17 : cost = 96.47867434320676\n",
            "18 : cost = 96.37662975542239\n",
            "19 : cost = 96.2910422825145\n",
            "20 : cost = 96.2187773199689\n",
            "21 : cost = 96.15739312605403\n",
            "22 : cost = 96.10496703754264\n",
            "23 : cost = 96.05997028278182\n",
            "24 : cost = 96.0211764352211\n",
            "25 : cost = 95.98759356298689\n",
            "26 : cost = 95.95841333101475\n",
            "27 : cost = 95.93297240156954\n",
            "28 : cost = 95.91072286968816\n",
            "29 : cost = 95.89120941223192\n",
            "30 : cost = 95.87405147777756\n",
            "31 : cost = 95.85892929755035\n",
            "32 : cost = 95.84557281821084\n",
            "33 : cost = 95.83375288701325\n",
            "34 : cost = 95.82327418628927\n",
            "35 : cost = 95.81396953605609\n",
            "36 : cost = 95.80569527360845\n",
            "37 : cost = 95.79832748611236\n",
            "38 : cost = 95.79175892271431\n",
            "39 : cost = 95.78589645093666\n",
            "40 : cost = 95.78065895132299\n",
            "41 : cost = 95.77597556672212\n",
            "42 : cost = 95.77178423993261\n",
            "43 : cost = 95.7680304869052\n",
            "44 : cost = 95.76466636323524\n",
            "45 : cost = 95.76164958995497\n",
            "46 : cost = 95.75894281117115\n",
            "47 : cost = 95.75651296127859\n",
            "48 : cost = 95.75433072361116\n",
            "49 : cost = 95.75237006569702\n",
            "50 : cost = 95.75060783893986\n"
          ]
        },
        {
          "output_type": "execute_result",
          "data": {
            "text/plain": [
              "<__main__.myLogisticReg at 0x7f40d351a810>"
            ]
          },
          "metadata": {},
          "execution_count": 14
        }
      ]
    },
    {
      "cell_type": "code",
      "metadata": {
        "colab": {
          "base_uri": "https://localhost:8080/"
        },
        "id": "01dgu2_GrSfX",
        "outputId": "e01d79cf-68c3-4063-d9bb-8b190d7572d4"
      },
      "source": [
        "y_pred = mymodel.predict(X_test)\n",
        "y_pred "
      ],
      "execution_count": 15,
      "outputs": [
        {
          "output_type": "execute_result",
          "data": {
            "text/plain": [
              "array([0.0108456 , 0.15714438, 0.0118271 , 0.00382022, 0.05315263,\n",
              "       0.51498297, 0.38449742, 0.30508708, 0.23057177, 0.00271495,\n",
              "       0.21539409, 0.11441056, 0.0226849 , 0.82003151, 0.64955858,\n",
              "       0.25917672, 0.28973448, 0.00694028, 0.96505218, 0.02641584,\n",
              "       0.00168244, 0.04087879, 0.22674883, 0.14940135, 0.0447235 ,\n",
              "       0.05004888, 0.58367956, 0.01150483, 0.2538458 , 0.99364971,\n",
              "       0.01996209, 0.00700112, 0.19413552, 0.99131073, 0.34885408,\n",
              "       0.29154648, 0.00461162, 0.39023716, 0.09017332, 0.33914646,\n",
              "       0.32617903, 0.05856452, 0.01296036, 0.03010178, 0.60172003,\n",
              "       0.0226849 , 0.00521916, 0.45169845, 0.99298526, 0.03726147,\n",
              "       0.0108456 , 0.97181475, 0.33914646, 0.56972631, 0.52861892,\n",
              "       0.40725086, 0.95064517, 0.08314198, 0.49088453, 0.7280702 ,\n",
              "       0.35992107, 0.60929675, 0.76294541, 0.1750517 , 0.54408162,\n",
              "       0.17034065, 0.00837259, 0.01113579, 0.28580662, 0.98878708,\n",
              "       0.41097306, 0.31788341, 0.06542512, 0.98645147, 0.45169845,\n",
              "       0.9442079 , 0.00383458, 0.99278784, 0.26629357, 0.39871344,\n",
              "       0.60899782, 0.03841622, 0.97850727, 0.11327061, 0.16980898,\n",
              "       0.39352852, 0.48170611, 0.19413552, 0.1265144 , 0.00148597,\n",
              "       0.91919208, 0.00786197, 0.72582721, 0.65731026, 0.06588725,\n",
              "       0.94493102, 0.61830382, 0.9616968 , 0.50705697, 0.03204914,\n",
              "       0.07422595, 0.02999201, 0.95476088, 0.07625821, 0.05194845,\n",
              "       0.92829649, 0.07345317, 0.17912514, 0.88252363, 0.26678449,\n",
              "       0.86417579, 0.79104947, 0.35905376, 0.32006537, 0.9898325 ,\n",
              "       0.44354521, 0.01009749, 0.17967967, 0.04700473, 0.07413972])"
            ]
          },
          "metadata": {},
          "execution_count": 15
        }
      ]
    },
    {
      "cell_type": "code",
      "metadata": {
        "colab": {
          "base_uri": "https://localhost:8080/"
        },
        "id": "sXN78uw7rWzh",
        "outputId": "cc9fc327-c7dc-4035-8b6a-292b5816513a"
      },
      "source": [
        "#print actual and predicted values in a table\n",
        "y_test"
      ],
      "execution_count": 16,
      "outputs": [
        {
          "output_type": "execute_result",
          "data": {
            "text/plain": [
              "186    0\n",
              "225    0\n",
              "2      0\n",
              "175    0\n",
              "183    0\n",
              "      ..\n",
              "380    0\n",
              "39     0\n",
              "263    0\n",
              "96     0\n",
              "194    0\n",
              "Name: Purchased, Length: 120, dtype: int64"
            ]
          },
          "metadata": {},
          "execution_count": 16
        }
      ]
    },
    {
      "cell_type": "code",
      "metadata": {
        "colab": {
          "base_uri": "https://localhost:8080/"
        },
        "id": "3AjTpCAWrfYZ",
        "outputId": "042d36bb-ea2c-4a1f-af44-10df5639b3bc"
      },
      "source": [
        "# Calculating accuracy of prediction\n",
        "# len(X_test)\n",
        "accuracy = ((y_pred>=0.5)==y_test.to_numpy(dtype=np.bool)).sum()/len(y_pred)\n",
        "accuracy"
      ],
      "execution_count": 17,
      "outputs": [
        {
          "output_type": "execute_result",
          "data": {
            "text/plain": [
              "0.825"
            ]
          },
          "metadata": {},
          "execution_count": 17
        }
      ]
    },
    {
      "cell_type": "markdown",
      "metadata": {
        "id": "AYd5RnturyxD"
      },
      "source": [
        "Using sklearn LogisticRegression model"
      ]
    },
    {
      "cell_type": "code",
      "metadata": {
        "id": "z-Y-nqr6rzv0"
      },
      "source": [
        "# Fitting Logistic Regression to the Training set\n",
        "from sklearn.linear_model import LogisticRegression\n",
        "LR = LogisticRegression(random_state = 139)\n",
        "\n",
        "#Fit\n",
        "LR.fit(X_train,y_train)\n",
        "#predicting the test label with LR. Predict always takes X as input\n",
        "y1 = LR.predict(X_test)"
      ],
      "execution_count": 18,
      "outputs": []
    },
    {
      "cell_type": "code",
      "metadata": {
        "colab": {
          "base_uri": "https://localhost:8080/"
        },
        "id": "XvfXEJsfr7yX",
        "outputId": "fe1aa11c-2289-4f43-f930-5443073c10aa"
      },
      "source": [
        "from sklearn.metrics import classification_report\n",
        "print(classification_report(y_test,y1))\n",
        "print(classification_report(y_test,y_pred>=0.5))"
      ],
      "execution_count": 19,
      "outputs": [
        {
          "output_type": "stream",
          "name": "stdout",
          "text": [
            "              precision    recall  f1-score   support\n",
            "\n",
            "           0       0.85      0.90      0.87        79\n",
            "           1       0.78      0.68      0.73        41\n",
            "\n",
            "    accuracy                           0.82       120\n",
            "   macro avg       0.81      0.79      0.80       120\n",
            "weighted avg       0.82      0.82      0.82       120\n",
            "\n",
            "              precision    recall  f1-score   support\n",
            "\n",
            "           0       0.85      0.90      0.87        79\n",
            "           1       0.78      0.68      0.73        41\n",
            "\n",
            "    accuracy                           0.82       120\n",
            "   macro avg       0.81      0.79      0.80       120\n",
            "weighted avg       0.82      0.82      0.82       120\n",
            "\n"
          ]
        }
      ]
    }
  ]
}