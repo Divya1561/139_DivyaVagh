{
  "nbformat": 4,
  "nbformat_minor": 0,
  "metadata": {
    "kernelspec": {
      "display_name": "Python 3",
      "language": "python",
      "name": "python3"
    },
    "language_info": {
      "name": "python",
      "version": "3.6.6",
      "mimetype": "text/x-python",
      "codemirror_mode": {
        "name": "ipython",
        "version": 3
      },
      "pygments_lexer": "ipython3",
      "nbconvert_exporter": "python",
      "file_extension": ".py"
    },
    "colab": {
      "name": "139_Task2-linear-regression-pytorch.ipynb",
      "provenance": []
    }
  },
  "cells": [
    {
      "cell_type": "code",
      "metadata": {
        "_cell_guid": "79c7e3d0-c299-4dcb-8224-4455121ee9b0",
        "_uuid": "d629ff2d2480ee46fbb7e2d37f6b5fab8052498a",
        "trusted": true,
        "id": "v0BtAX1--7l_"
      },
      "source": [
        "# Import Numpy & PyTorch\n",
        "import numpy as np\n",
        "import torch"
      ],
      "execution_count": 9,
      "outputs": []
    },
    {
      "cell_type": "markdown",
      "metadata": {
        "_uuid": "ecc6e79cdfb6a8ca882895ccc895b61b960b0a04",
        "id": "i1HSrBDb-7t9"
      },
      "source": [
        "## Linear Regression Model using PyTorch built-ins\n",
        "\n",
        "Let's re-implement the same model using some built-in functions and classes from PyTorch.\n",
        "\n",
        "And now using two different targets: Apples and Oranges"
      ]
    },
    {
      "cell_type": "code",
      "metadata": {
        "trusted": true,
        "_uuid": "ce66cf0d09a3f38bf2f00ea40418c56d98f1f814",
        "id": "iXiEK54j-7t-"
      },
      "source": [
        "# Imports\n",
        "import torch.nn as nn"
      ],
      "execution_count": 10,
      "outputs": []
    },
    {
      "cell_type": "code",
      "metadata": {
        "trusted": true,
        "_uuid": "74bb18bd01ac809079eeb8d05695206e8ba02069",
        "id": "wCsxgTWO-7uM"
      },
      "source": [
        "# Input (temp, rainfall, humidity)\n",
        "inputs = np.array([[73, 67, 43], [91, 88, 64], [87, 134, 58], [102, 43, 37], [69, 96, 70], [73, 67, 43], [91, 88, 64], [87, 134, 58], [102, 43, 37], [69, 96, 70], [73, 67, 43], [91, 88, 64], [87, 134, 58], [102, 43, 37], [69, 96, 70]], dtype='float32')\n",
        "# Targets (apples, oranges)\n",
        "targets = np.array([[56, 70], [81, 101], [119, 133], [22, 37], [103, 119], \n",
        "                    [56, 70], [81, 101], [119, 133], [22, 37], [103, 119], \n",
        "                    [56, 70], [81, 101], [119, 133], [22, 37], [103, 119]], dtype='float32')"
      ],
      "execution_count": 11,
      "outputs": []
    },
    {
      "cell_type": "code",
      "metadata": {
        "trusted": true,
        "_uuid": "d94b355f55250e9c7dcff668920f02d7c5c04925",
        "id": "nJRlm4-N-7uY"
      },
      "source": [
        "X = torch.from_numpy(inputs)\n",
        "Y = torch.from_numpy(targets)"
      ],
      "execution_count": 12,
      "outputs": []
    },
    {
      "cell_type": "markdown",
      "metadata": {
        "_uuid": "a0665466eb5401f40a816b323a34450b2c052c41",
        "id": "O6JT5Ng6-7uj"
      },
      "source": [
        "### Dataset and DataLoader\n",
        "\n",
        "We'll create a `TensorDataset`, which allows access to rows from `inputs` and `targets` as tuples. We'll also create a DataLoader, to split the data into batches while training. It also provides other utilities like shuffling and sampling."
      ]
    },
    {
      "cell_type": "code",
      "metadata": {
        "trusted": true,
        "_uuid": "206f5fd0473386476b23477bf38d2c327b6376c9",
        "id": "iGYdbuWc-7ul"
      },
      "source": [
        "# Import tensor dataset & data loader\n",
        "from torch.utils.data import TensorDataset, DataLoader"
      ],
      "execution_count": 13,
      "outputs": []
    },
    {
      "cell_type": "code",
      "metadata": {
        "trusted": true,
        "_uuid": "c47a4f2f86fda3918094e01cf7ab0698bbb5acc7",
        "id": "LY_cq6Bf-7ux"
      },
      "source": [
        "# Define dataset\n",
        "dataset = torch.utils.data.TensorDataset(X,Y)"
      ],
      "execution_count": 14,
      "outputs": []
    },
    {
      "cell_type": "code",
      "metadata": {
        "trusted": true,
        "_uuid": "0a2f69126319d738b82ae67d5d404ecd6161bfac",
        "id": "I-_dMpco-7u-"
      },
      "source": [
        "# Define data loader\n",
        "trainloader = torch.utils.data.DataLoader(dataset,batch_size=10)"
      ],
      "execution_count": 15,
      "outputs": []
    },
    {
      "cell_type": "markdown",
      "metadata": {
        "_uuid": "276a262e1b9e3a048bcd32989013f9c501c59037",
        "id": "Dq8gUbVx-7vK"
      },
      "source": [
        "### nn.Linear\n",
        "Instead of initializing the weights & biases manually, we can define the model using `nn.Linear`."
      ]
    },
    {
      "cell_type": "code",
      "metadata": {
        "trusted": true,
        "_uuid": "59da3506559a0640d80d18f77b02726a1757be2f",
        "id": "sKa873ZD-7vN",
        "colab": {
          "base_uri": "https://localhost:8080/"
        },
        "outputId": "fa751cd8-0dfa-4ad3-a058-55b8d5c9f456"
      },
      "source": [
        "# Define model\n",
        "model = nn.Linear(X.shape[1],Y.shape[1])\n",
        "print(model.state_dict())\n",
        "model.parameters()"
      ],
      "execution_count": 17,
      "outputs": [
        {
          "output_type": "stream",
          "name": "stdout",
          "text": [
            "OrderedDict([('weight', tensor([[ 0.0560,  0.1162, -0.3459],\n",
            "        [ 0.2920,  0.4308, -0.0164]])), ('bias', tensor([ 0.4367, -0.3620]))])\n"
          ]
        },
        {
          "output_type": "execute_result",
          "data": {
            "text/plain": [
              "<generator object Module.parameters at 0x7fc66d94ee50>"
            ]
          },
          "metadata": {},
          "execution_count": 17
        }
      ]
    },
    {
      "cell_type": "markdown",
      "metadata": {
        "_uuid": "b3a4a8c499a4680f2533329712de034671dd1cdd",
        "id": "rku14lz3-7vX"
      },
      "source": [
        "### Optimizer\n",
        "Instead of manually manipulating the weights & biases using gradients, we can use the optimizer `optim.SGD`."
      ]
    },
    {
      "cell_type": "code",
      "metadata": {
        "trusted": true,
        "_uuid": "1848398bd1ced8c25a7bb55612cf32a774500280",
        "id": "Yd4H-T8g-7va"
      },
      "source": [
        "# Define optimizer\n",
        "optimizer = torch.optim.SGD(model.parameters(),lr=1e-4)"
      ],
      "execution_count": 18,
      "outputs": []
    },
    {
      "cell_type": "markdown",
      "metadata": {
        "_uuid": "28cbe62be55010bd11b31d819cff38da5a772b18",
        "id": "V2ktEA-C-7vl"
      },
      "source": [
        "### Loss Function\n",
        "Instead of defining a loss function manually, we can use the built-in loss function `mse_loss`."
      ]
    },
    {
      "cell_type": "code",
      "metadata": {
        "trusted": true,
        "_uuid": "69d7f4e8e27ccd077f711da27f8bede8aa711893",
        "id": "TF2xmzgO-7vo"
      },
      "source": [
        "# Import nn.functional\n",
        "import torch.nn.functional as F"
      ],
      "execution_count": 19,
      "outputs": []
    },
    {
      "cell_type": "code",
      "metadata": {
        "trusted": true,
        "_uuid": "a02ff888ed4be720fd9ca376022d8fdcf2559683",
        "id": "hSgxvr8N-7vz"
      },
      "source": [
        "# Define loss function\n",
        "loss_fn = F.mse_loss"
      ],
      "execution_count": 20,
      "outputs": []
    },
    {
      "cell_type": "code",
      "metadata": {
        "trusted": true,
        "_uuid": "a540adf76725ea9968025f6c029fdd251bdada6c",
        "id": "9vyVL5io-7wA"
      },
      "source": [
        "#loss = loss_fn(? , ?)\n",
        "#print(loss)"
      ],
      "execution_count": null,
      "outputs": []
    },
    {
      "cell_type": "markdown",
      "metadata": {
        "_uuid": "e833614a69ff18c554a3d89f643ae2f11e0260f6",
        "id": "9jbPdkiO-7wM"
      },
      "source": [
        "### Train the model\n",
        "\n",
        "We are ready to train the model now. We can define a utility function `fit` which trains the model for a given number of epochs."
      ]
    },
    {
      "cell_type": "code",
      "metadata": {
        "trusted": true,
        "_uuid": "128bc7260221f5338edf8b503c75f0c7d1cce7e8",
        "id": "zDnWui7g-7wP"
      },
      "source": [
        "# Define a utility function to train the model\n",
        "def fit(num_epochs, model, loss_fn, opt):\n",
        "    for epoch in range(num_epochs):\n",
        "        for xb,yb in trainloader:\n",
        "            # Generate predictions\n",
        "            pred = model(xb)\n",
        "            loss = loss_fn(yb,pred)\n",
        "            # Perform gradient descent\n",
        "            loss.backward()\n",
        "            opt.step()\n",
        "            opt.zero_grad()\n",
        "        print('Training loss: ', loss_fn(model(X), Y))"
      ],
      "execution_count": 21,
      "outputs": []
    },
    {
      "cell_type": "code",
      "metadata": {
        "trusted": true,
        "_uuid": "ae8ca4686cf6a68f6c9ca93bf3d227abe96c2201",
        "id": "Gd8tiT_q-7wa",
        "colab": {
          "base_uri": "https://localhost:8080/"
        },
        "outputId": "c92a97a5-42e0-4404-e152-94a469ceef12"
      },
      "source": [
        "# Train the model for 100 epochs\n",
        "fit(100 , model , loss_fn, optimizer)"
      ],
      "execution_count": 22,
      "outputs": [
        {
          "output_type": "stream",
          "name": "stdout",
          "text": [
            "Training loss:  tensor(2008.0050, grad_fn=<MseLossBackward>)\n",
            "Training loss:  tensor(947.6615, grad_fn=<MseLossBackward>)\n",
            "Training loss:  tensor(501.9972, grad_fn=<MseLossBackward>)\n",
            "Training loss:  tensor(303.7248, grad_fn=<MseLossBackward>)\n",
            "Training loss:  tensor(207.5368, grad_fn=<MseLossBackward>)\n",
            "Training loss:  tensor(155.3599, grad_fn=<MseLossBackward>)\n",
            "Training loss:  tensor(123.5402, grad_fn=<MseLossBackward>)\n",
            "Training loss:  tensor(102.1064, grad_fn=<MseLossBackward>)\n",
            "Training loss:  tensor(86.6069, grad_fn=<MseLossBackward>)\n",
            "Training loss:  tensor(74.8760, grad_fn=<MseLossBackward>)\n",
            "Training loss:  tensor(65.7403, grad_fn=<MseLossBackward>)\n",
            "Training loss:  tensor(58.4893, grad_fn=<MseLossBackward>)\n",
            "Training loss:  tensor(52.6515, grad_fn=<MseLossBackward>)\n",
            "Training loss:  tensor(47.8929, grad_fn=<MseLossBackward>)\n",
            "Training loss:  tensor(43.9677, grad_fn=<MseLossBackward>)\n",
            "Training loss:  tensor(40.6911, grad_fn=<MseLossBackward>)\n",
            "Training loss:  tensor(37.9219, grad_fn=<MseLossBackward>)\n",
            "Training loss:  tensor(35.5519, grad_fn=<MseLossBackward>)\n",
            "Training loss:  tensor(33.4980, grad_fn=<MseLossBackward>)\n",
            "Training loss:  tensor(31.6956, grad_fn=<MseLossBackward>)\n",
            "Training loss:  tensor(30.0950, grad_fn=<MseLossBackward>)\n",
            "Training loss:  tensor(28.6576, grad_fn=<MseLossBackward>)\n",
            "Training loss:  tensor(27.3532, grad_fn=<MseLossBackward>)\n",
            "Training loss:  tensor(26.1587, grad_fn=<MseLossBackward>)\n",
            "Training loss:  tensor(25.0557, grad_fn=<MseLossBackward>)\n",
            "Training loss:  tensor(24.0299, grad_fn=<MseLossBackward>)\n",
            "Training loss:  tensor(23.0699, grad_fn=<MseLossBackward>)\n",
            "Training loss:  tensor(22.1670, grad_fn=<MseLossBackward>)\n",
            "Training loss:  tensor(21.3141, grad_fn=<MseLossBackward>)\n",
            "Training loss:  tensor(20.5053, grad_fn=<MseLossBackward>)\n",
            "Training loss:  tensor(19.7363, grad_fn=<MseLossBackward>)\n",
            "Training loss:  tensor(19.0031, grad_fn=<MseLossBackward>)\n",
            "Training loss:  tensor(18.3029, grad_fn=<MseLossBackward>)\n",
            "Training loss:  tensor(17.6329, grad_fn=<MseLossBackward>)\n",
            "Training loss:  tensor(16.9910, grad_fn=<MseLossBackward>)\n",
            "Training loss:  tensor(16.3754, grad_fn=<MseLossBackward>)\n",
            "Training loss:  tensor(15.7846, grad_fn=<MseLossBackward>)\n",
            "Training loss:  tensor(15.2171, grad_fn=<MseLossBackward>)\n",
            "Training loss:  tensor(14.6717, grad_fn=<MseLossBackward>)\n",
            "Training loss:  tensor(14.1473, grad_fn=<MseLossBackward>)\n",
            "Training loss:  tensor(13.6430, grad_fn=<MseLossBackward>)\n",
            "Training loss:  tensor(13.1578, grad_fn=<MseLossBackward>)\n",
            "Training loss:  tensor(12.6909, grad_fn=<MseLossBackward>)\n",
            "Training loss:  tensor(12.2415, grad_fn=<MseLossBackward>)\n",
            "Training loss:  tensor(11.8088, grad_fn=<MseLossBackward>)\n",
            "Training loss:  tensor(11.3924, grad_fn=<MseLossBackward>)\n",
            "Training loss:  tensor(10.9913, grad_fn=<MseLossBackward>)\n",
            "Training loss:  tensor(10.6053, grad_fn=<MseLossBackward>)\n",
            "Training loss:  tensor(10.2334, grad_fn=<MseLossBackward>)\n",
            "Training loss:  tensor(9.8754, grad_fn=<MseLossBackward>)\n",
            "Training loss:  tensor(9.5305, grad_fn=<MseLossBackward>)\n",
            "Training loss:  tensor(9.1985, grad_fn=<MseLossBackward>)\n",
            "Training loss:  tensor(8.8787, grad_fn=<MseLossBackward>)\n",
            "Training loss:  tensor(8.5706, grad_fn=<MseLossBackward>)\n",
            "Training loss:  tensor(8.2740, grad_fn=<MseLossBackward>)\n",
            "Training loss:  tensor(7.9882, grad_fn=<MseLossBackward>)\n",
            "Training loss:  tensor(7.7130, grad_fn=<MseLossBackward>)\n",
            "Training loss:  tensor(7.4480, grad_fn=<MseLossBackward>)\n",
            "Training loss:  tensor(7.1927, grad_fn=<MseLossBackward>)\n",
            "Training loss:  tensor(6.9468, grad_fn=<MseLossBackward>)\n",
            "Training loss:  tensor(6.7100, grad_fn=<MseLossBackward>)\n",
            "Training loss:  tensor(6.4819, grad_fn=<MseLossBackward>)\n",
            "Training loss:  tensor(6.2622, grad_fn=<MseLossBackward>)\n",
            "Training loss:  tensor(6.0506, grad_fn=<MseLossBackward>)\n",
            "Training loss:  tensor(5.8467, grad_fn=<MseLossBackward>)\n",
            "Training loss:  tensor(5.6504, grad_fn=<MseLossBackward>)\n",
            "Training loss:  tensor(5.4613, grad_fn=<MseLossBackward>)\n",
            "Training loss:  tensor(5.2792, grad_fn=<MseLossBackward>)\n",
            "Training loss:  tensor(5.1038, grad_fn=<MseLossBackward>)\n",
            "Training loss:  tensor(4.9348, grad_fn=<MseLossBackward>)\n",
            "Training loss:  tensor(4.7721, grad_fn=<MseLossBackward>)\n",
            "Training loss:  tensor(4.6153, grad_fn=<MseLossBackward>)\n",
            "Training loss:  tensor(4.4644, grad_fn=<MseLossBackward>)\n",
            "Training loss:  tensor(4.3190, grad_fn=<MseLossBackward>)\n",
            "Training loss:  tensor(4.1789, grad_fn=<MseLossBackward>)\n",
            "Training loss:  tensor(4.0440, grad_fn=<MseLossBackward>)\n",
            "Training loss:  tensor(3.9141, grad_fn=<MseLossBackward>)\n",
            "Training loss:  tensor(3.7889, grad_fn=<MseLossBackward>)\n",
            "Training loss:  tensor(3.6683, grad_fn=<MseLossBackward>)\n",
            "Training loss:  tensor(3.5522, grad_fn=<MseLossBackward>)\n",
            "Training loss:  tensor(3.4404, grad_fn=<MseLossBackward>)\n",
            "Training loss:  tensor(3.3327, grad_fn=<MseLossBackward>)\n",
            "Training loss:  tensor(3.2290, grad_fn=<MseLossBackward>)\n",
            "Training loss:  tensor(3.1290, grad_fn=<MseLossBackward>)\n",
            "Training loss:  tensor(3.0328, grad_fn=<MseLossBackward>)\n",
            "Training loss:  tensor(2.9401, grad_fn=<MseLossBackward>)\n",
            "Training loss:  tensor(2.8508, grad_fn=<MseLossBackward>)\n",
            "Training loss:  tensor(2.7648, grad_fn=<MseLossBackward>)\n",
            "Training loss:  tensor(2.6819, grad_fn=<MseLossBackward>)\n",
            "Training loss:  tensor(2.6021, grad_fn=<MseLossBackward>)\n",
            "Training loss:  tensor(2.5253, grad_fn=<MseLossBackward>)\n",
            "Training loss:  tensor(2.4513, grad_fn=<MseLossBackward>)\n",
            "Training loss:  tensor(2.3800, grad_fn=<MseLossBackward>)\n",
            "Training loss:  tensor(2.3113, grad_fn=<MseLossBackward>)\n",
            "Training loss:  tensor(2.2452, grad_fn=<MseLossBackward>)\n",
            "Training loss:  tensor(2.1815, grad_fn=<MseLossBackward>)\n",
            "Training loss:  tensor(2.1201, grad_fn=<MseLossBackward>)\n",
            "Training loss:  tensor(2.0610, grad_fn=<MseLossBackward>)\n",
            "Training loss:  tensor(2.0041, grad_fn=<MseLossBackward>)\n",
            "Training loss:  tensor(1.9493, grad_fn=<MseLossBackward>)\n"
          ]
        }
      ]
    },
    {
      "cell_type": "code",
      "metadata": {
        "trusted": true,
        "_uuid": "32588a47d0478772a1f08fa55874a322630bd0b6",
        "id": "c3Bf-Emn-7wj",
        "colab": {
          "base_uri": "https://localhost:8080/"
        },
        "outputId": "79ccff4f-e1af-4b75-ffb8-f4b9e09d9177"
      },
      "source": [
        "# Generate predictions\n",
        "preds = model(X)\n",
        "preds"
      ],
      "execution_count": 23,
      "outputs": [
        {
          "output_type": "execute_result",
          "data": {
            "text/plain": [
              "tensor([[ 57.3349,  70.3534],\n",
              "        [ 81.3518,  99.8273],\n",
              "        [120.3664, 134.8031],\n",
              "        [ 21.5444,  37.5369],\n",
              "        [100.2491, 117.2957],\n",
              "        [ 57.3349,  70.3534],\n",
              "        [ 81.3518,  99.8273],\n",
              "        [120.3664, 134.8031],\n",
              "        [ 21.5444,  37.5369],\n",
              "        [100.2491, 117.2957],\n",
              "        [ 57.3349,  70.3534],\n",
              "        [ 81.3518,  99.8273],\n",
              "        [120.3664, 134.8031],\n",
              "        [ 21.5444,  37.5369],\n",
              "        [100.2491, 117.2957]], grad_fn=<AddmmBackward>)"
            ]
          },
          "metadata": {},
          "execution_count": 23
        }
      ]
    },
    {
      "cell_type": "code",
      "metadata": {
        "trusted": true,
        "_uuid": "12d757c0f37c2e3af65cf9d4b59878cc10c65acf",
        "id": "_gDGmiHl-7wr",
        "colab": {
          "base_uri": "https://localhost:8080/"
        },
        "outputId": "30d29fb2-3bc7-4d9b-bcb7-574fa41ebf3d"
      },
      "source": [
        "# Compare with targets\n",
        "targets"
      ],
      "execution_count": 24,
      "outputs": [
        {
          "output_type": "execute_result",
          "data": {
            "text/plain": [
              "array([[ 56.,  70.],\n",
              "       [ 81., 101.],\n",
              "       [119., 133.],\n",
              "       [ 22.,  37.],\n",
              "       [103., 119.],\n",
              "       [ 56.,  70.],\n",
              "       [ 81., 101.],\n",
              "       [119., 133.],\n",
              "       [ 22.,  37.],\n",
              "       [103., 119.],\n",
              "       [ 56.,  70.],\n",
              "       [ 81., 101.],\n",
              "       [119., 133.],\n",
              "       [ 22.,  37.],\n",
              "       [103., 119.]], dtype=float32)"
            ]
          },
          "metadata": {},
          "execution_count": 24
        }
      ]
    },
    {
      "cell_type": "markdown",
      "metadata": {
        "_uuid": "2448d9832722f4f2813f8bd80b91daefd901dc2e",
        "id": "b9nvUidI-7xD"
      },
      "source": [
        "Now we can define the model, optimizer and loss function exactly as before."
      ]
    },
    {
      "cell_type": "code",
      "metadata": {
        "trusted": true,
        "_uuid": "e94de6868c76803a998c1c1934ed229c826f3b8c",
        "id": "d3esiKz3-7xT"
      },
      "source": [
        "#fit(?,?,?,?)"
      ],
      "execution_count": null,
      "outputs": []
    },
    {
      "cell_type": "markdown",
      "metadata": {
        "id": "eAyCq48TMlWJ"
      },
      "source": [
        "#Exercise 1:\n",
        " Try Linear Regression just using numpy (Without Tensorflow/Pytorch or other torch library). You can optionally use sklearn (if you want)\n",
        "#Exercise 2:\n",
        " Try Linear regression on same prediction data using Tensorflow\n",
        "\n",
        " "
      ]
    },
    {
      "cell_type": "markdown",
      "metadata": {
        "id": "9KP93IHSeAUB"
      },
      "source": [
        "EX-1"
      ]
    },
    {
      "cell_type": "code",
      "metadata": {
        "id": "Vl9MAkL8eCM5"
      },
      "source": [
        "from sklearn.linear_model import LinearRegression\n",
        "model1 = LinearRegression()"
      ],
      "execution_count": 25,
      "outputs": []
    },
    {
      "cell_type": "code",
      "metadata": {
        "id": "aBUVS9XseGnc"
      },
      "source": [
        "from sklearn.model_selection import train_test_split\n",
        "\n",
        "X_Train,X_Test,Y_Train,Y_Test = train_test_split(inputs,targets,test_size=0.2,random_state=139)"
      ],
      "execution_count": 26,
      "outputs": []
    },
    {
      "cell_type": "code",
      "metadata": {
        "colab": {
          "base_uri": "https://localhost:8080/"
        },
        "id": "paz5WotNeMGQ",
        "outputId": "e81dc7ee-0339-4ff6-8924-aeabec395147"
      },
      "source": [
        "model1.fit(X_Train,Y_Train)"
      ],
      "execution_count": 27,
      "outputs": [
        {
          "output_type": "execute_result",
          "data": {
            "text/plain": [
              "LinearRegression(copy_X=True, fit_intercept=True, n_jobs=None, normalize=False)"
            ]
          },
          "metadata": {},
          "execution_count": 27
        }
      ]
    },
    {
      "cell_type": "code",
      "metadata": {
        "id": "f6PiPBO8eTBs"
      },
      "source": [
        "Y_pred = model1.predict(X_Test)"
      ],
      "execution_count": 28,
      "outputs": []
    },
    {
      "cell_type": "code",
      "metadata": {
        "colab": {
          "base_uri": "https://localhost:8080/"
        },
        "id": "KrAxL02keXBt",
        "outputId": "cea87505-e165-41f3-a036-96497baf890e"
      },
      "source": [
        "from sklearn.metrics import mean_squared_error\n",
        "print(mean_squared_error(Y_Test,Y_pred))\n",
        "Y_pred,Y_Test"
      ],
      "execution_count": 29,
      "outputs": [
        {
          "output_type": "stream",
          "name": "stdout",
          "text": [
            "0.45185834\n"
          ]
        },
        {
          "output_type": "execute_result",
          "data": {
            "text/plain": [
              "(array([[118.66335 , 133.02359 ],\n",
              "        [ 20.867573,  37.079365],\n",
              "        [ 57.14113 ,  69.92001 ]], dtype=float32), array([[119., 133.],\n",
              "        [ 22.,  37.],\n",
              "        [ 56.,  70.]], dtype=float32))"
            ]
          },
          "metadata": {},
          "execution_count": 29
        }
      ]
    }
  ]
}