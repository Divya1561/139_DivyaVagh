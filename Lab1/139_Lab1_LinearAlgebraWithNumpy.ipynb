{
  "nbformat": 4,
  "nbformat_minor": 0,
  "metadata": {
    "colab": {
      "name": "139_Lab1_LinearAlgebraWithNumpy.ipynb",
      "provenance": [],
      "authorship_tag": "ABX9TyOXzItSynDXqlZ0Ej8uHcTa"
    },
    "kernelspec": {
      "name": "python3",
      "display_name": "Python 3"
    },
    "language_info": {
      "name": "python"
    }
  },
  "cells": [
    {
      "cell_type": "code",
      "metadata": {
        "colab": {
          "base_uri": "https://localhost:8080/"
        },
        "id": "CAldFzx4inm_",
        "outputId": "e04434fe-1467-4b45-b3f4-753b07d25845"
      },
      "source": [
        "from google.colab import drive\n",
        "drive.mount('/content/drive')"
      ],
      "execution_count": 10,
      "outputs": [
        {
          "output_type": "stream",
          "name": "stdout",
          "text": [
            "Drive already mounted at /content/drive; to attempt to forcibly remount, call drive.mount(\"/content/drive\", force_remount=True).\n"
          ]
        }
      ]
    },
    {
      "cell_type": "code",
      "metadata": {
        "colab": {
          "base_uri": "https://localhost:8080/"
        },
        "id": "N4kC14pjkc3z",
        "outputId": "0bc11059-a10e-4139-c86a-0f88749be9c3"
      },
      "source": [
        "import numpy as np\n",
        "import pandas as pd\n",
        "\n",
        "matrix3x2 = np.array([[1, 2], [3, 4], [5, 6]])\n",
        "matrix2x3 = np.array([[1, 2, 4], [4, 5, 6]])\n",
        "\n",
        "print('3 x 2 matrix : \\n', matrix3x2)\n",
        "print('\\n 2 x 3 matrix : \\n', matrix2x3)"
      ],
      "execution_count": 11,
      "outputs": [
        {
          "output_type": "stream",
          "name": "stdout",
          "text": [
            "3 x 2 matrix : \n",
            " [[1 2]\n",
            " [3 4]\n",
            " [5 6]]\n",
            "\n",
            " 2 x 3 matrix : \n",
            " [[1 2 4]\n",
            " [4 5 6]]\n"
          ]
        }
      ]
    },
    {
      "cell_type": "code",
      "metadata": {
        "colab": {
          "base_uri": "https://localhost:8080/"
        },
        "id": "Ue4Qaw36ki3B",
        "outputId": "1e61077f-4844-4c87-dc03-0397b7cf3de5"
      },
      "source": [
        "random_matrix = np.random.rand(3, 4)\n",
        "print(random_matrix)"
      ],
      "execution_count": 12,
      "outputs": [
        {
          "output_type": "stream",
          "name": "stdout",
          "text": [
            "[[0.4454339  0.67782691 0.59326981 0.73779869]\n",
            " [0.64228918 0.89062581 0.58061664 0.35721775]\n",
            " [0.53978915 0.94686975 0.98399657 0.50676999]]\n"
          ]
        }
      ]
    },
    {
      "cell_type": "code",
      "metadata": {
        "colab": {
          "base_uri": "https://localhost:8080/"
        },
        "id": "F0da17q7kmnA",
        "outputId": "ebad51f2-953c-4437-cc2f-844ef8431adf"
      },
      "source": [
        "# matrix multiplication\n",
        "matmul = np.dot(matrix3x2, matrix2x3)\n",
        "print(matmul)"
      ],
      "execution_count": 13,
      "outputs": [
        {
          "output_type": "stream",
          "name": "stdout",
          "text": [
            "[[ 9 12 16]\n",
            " [19 26 36]\n",
            " [29 40 56]]\n"
          ]
        }
      ]
    },
    {
      "cell_type": "code",
      "metadata": {
        "colab": {
          "base_uri": "https://localhost:8080/"
        },
        "id": "ZW7rerUHkqH-",
        "outputId": "9fb48a75-bdf5-4304-a27b-0ae03e298f6d"
      },
      "source": [
        "# elemet wise matrix multiplication\n",
        "result = [[0 for x in range(len(matrix3x2))] for y in range(len(matrix2x3[0]))]\n",
        "\n",
        "for i in range(len(matrix3x2)): \n",
        "  for j in range(len(matrix2x3[0])): \n",
        "    for k in range(len(matrix2x3)): \n",
        "      result[i][j] += matrix3x2[i][k] * matrix2x3[k][j]\n",
        " \n",
        "print('Element wise multiplication : \\n', result)"
      ],
      "execution_count": 14,
      "outputs": [
        {
          "output_type": "stream",
          "name": "stdout",
          "text": [
            "Element wise multiplication : \n",
            " [[9, 12, 16], [19, 26, 36], [29, 40, 56]]\n"
          ]
        }
      ]
    },
    {
      "cell_type": "code",
      "metadata": {
        "colab": {
          "base_uri": "https://localhost:8080/"
        },
        "id": "Epb-6ItyktuW",
        "outputId": "23511de0-f645-4bdb-edb0-c8d695577d0d"
      },
      "source": [
        "mean = np.mean(matrix3x2)\n",
        "print(mean)"
      ],
      "execution_count": 15,
      "outputs": [
        {
          "output_type": "stream",
          "name": "stdout",
          "text": [
            "3.5\n"
          ]
        }
      ]
    },
    {
      "cell_type": "code",
      "metadata": {
        "id": "Jm_n3JLPk4j0"
      },
      "source": [
        "data = pd.read_csv('/content/drive/MyDrive/Colab Notebooks/ML/Lab1/mtcars.csv')"
      ],
      "execution_count": 16,
      "outputs": []
    },
    {
      "cell_type": "code",
      "metadata": {
        "colab": {
          "base_uri": "https://localhost:8080/"
        },
        "id": "t843ZLwwlbNh",
        "outputId": "4beef942-bd7c-441d-9748-f560425b4e6f"
      },
      "source": [
        "del data['model']\n",
        "\n",
        "meancenter = data.apply(lambda e: e - e.mean())\n",
        "print(meancenter.head())"
      ],
      "execution_count": 17,
      "outputs": [
        {
          "output_type": "stream",
          "name": "stdout",
          "text": [
            "        mpg     cyl        disp       hp  ...      vs       am    gear    carb\n",
            "0  0.909375 -0.1875  -70.721875 -36.6875  ... -0.4375  0.59375  0.3125  1.1875\n",
            "1  0.909375 -0.1875  -70.721875 -36.6875  ... -0.4375  0.59375  0.3125  1.1875\n",
            "2  2.709375 -2.1875 -122.721875 -53.6875  ...  0.5625  0.59375  0.3125 -1.8125\n",
            "3  1.309375 -0.1875   27.278125 -36.6875  ...  0.5625 -0.40625 -0.6875 -1.8125\n",
            "4 -1.390625  1.8125  129.278125  28.3125  ... -0.4375 -0.40625 -0.6875 -0.8125\n",
            "\n",
            "[5 rows x 11 columns]\n"
          ]
        }
      ]
    }
  ]
}