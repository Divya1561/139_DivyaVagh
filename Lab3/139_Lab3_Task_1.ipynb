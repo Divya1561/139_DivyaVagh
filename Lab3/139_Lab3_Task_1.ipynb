{
  "nbformat": 4,
  "nbformat_minor": 0,
  "metadata": {
    "colab": {
      "name": "139_Lab3_Task_1.ipynb",
      "provenance": [],
      "collapsed_sections": [],
      "authorship_tag": "ABX9TyPNBPpPmbwqW9ibxlTfISAd"
    },
    "kernelspec": {
      "name": "python3",
      "display_name": "Python 3"
    },
    "language_info": {
      "name": "python"
    }
  },
  "cells": [
    {
      "cell_type": "markdown",
      "metadata": {
        "id": "OI8zPFs4zgMI"
      },
      "source": [
        "#Task 1: Try the algo on Dataset3 - LabelEncoding of features:and Train test Division 95%-5%\n",
        "\n",
        "Instruction for Task-1 & 2:\n",
        "\n",
        "i) Set Random state of model equals to your roll number (or last 2 digit of your id -if you don't have roll number)\n",
        "\n",
        "Questions: For Task - 1\n",
        "\n",
        "(1) What will be the value of Play, if Outlook is ’Rainy’, Temperature is ’Mild’, Humidity =’Normal’, and Wind = ’False’?\n",
        "\n",
        "(2) What will be the value of Play, if Outlook is ’Sunny’, Temeprature is ’Cool’, Humidity =’High’, and Wind = ’True’?\n",
        "\n",
        "(3) Accuracy , precision and recall of both Models?"
      ]
    },
    {
      "cell_type": "code",
      "metadata": {
        "colab": {
          "base_uri": "https://localhost:8080/"
        },
        "id": "1-TFFFtWzmVu",
        "outputId": "fc98f8e1-cc21-4f8b-b97a-a4597800ab9f"
      },
      "source": [
        "from google.colab import drive\n",
        "drive.mount('/content/drive')"
      ],
      "execution_count": null,
      "outputs": [
        {
          "output_type": "stream",
          "name": "stdout",
          "text": [
            "Mounted at /content/drive\n"
          ]
        }
      ]
    },
    {
      "cell_type": "code",
      "metadata": {
        "id": "Z7HdAdLCz_HJ"
      },
      "source": [
        "# Importing required libraries\n",
        "import numpy as np \n",
        "import pandas as pd\n",
        "from sklearn import preprocessing\n",
        "from sklearn.naive_bayes import GaussianNB, MultinomialNB\n",
        "from sklearn.metrics import accuracy_score, precision_score, recall_score, confusion_matrix"
      ],
      "execution_count": null,
      "outputs": []
    },
    {
      "cell_type": "code",
      "metadata": {
        "colab": {
          "base_uri": "https://localhost:8080/"
        },
        "id": "hbwLcnPY0Ltt",
        "outputId": "be62a58e-3424-4f9b-e2cc-8df2a05af418"
      },
      "source": [
        "# Loading dataset\n",
        "dataset = pd.read_csv('/content/drive/MyDrive/Colab Notebooks/ML/Lab3/Dataset3.csv') \n",
        "print(\"\\nData :\\n\", dataset)"
      ],
      "execution_count": null,
      "outputs": [
        {
          "output_type": "stream",
          "name": "stdout",
          "text": [
            "\n",
            "Data :\n",
            "    Outlook Temp Wind  Humidity  Class\n",
            "0        R    H    F         1      0\n",
            "1        R    H    T         2      0\n",
            "2        O    H    F         1      1\n",
            "3        R    M    F         1      1\n",
            "4        S    C    F         1      1\n",
            "5        O    C    T         0      0\n",
            "6        O    C    T         1      1\n",
            "7        R    M    F         1      0\n",
            "8        O    C    F         0      1\n",
            "9        S    M    F         2      1\n",
            "10       R    C    T         2      0\n",
            "11       O    M    T         0      1\n",
            "12       O    H    F         1      1\n",
            "13       S    M    T         1      0\n"
          ]
        }
      ]
    },
    {
      "cell_type": "code",
      "metadata": {
        "id": "87wBc3fi0T4A"
      },
      "source": [
        "# Preparing columns for label encoding\n",
        "outlook = dataset[\"Outlook\"]\n",
        "temp = dataset[\"Temp\"]\n",
        "wind = dataset[\"Wind\"]\n",
        "humidity = dataset[\"Humidity\"]\n",
        "class_label = dataset[\"Class\"]\n",
        "\n",
        "# print(outlook)\n",
        "# print(temp)\n",
        "# print(wind)"
      ],
      "execution_count": null,
      "outputs": []
    },
    {
      "cell_type": "code",
      "metadata": {
        "colab": {
          "base_uri": "https://localhost:8080/"
        },
        "id": "5vVQZSTB0X9V",
        "outputId": "90fa2480-d048-4431-863b-2e1e285acc67"
      },
      "source": [
        "# Label encoding\n",
        "le = preprocessing.LabelEncoder()\n",
        "\n",
        "outlook_encoded = le.fit_transform(outlook)\n",
        "print(\"Outlook:   \", outlook_encoded) # 1 - R, 0 - O, 2 - S\n",
        "\n",
        "temp_encoded = le.fit_transform(temp)\n",
        "print(\"Temp:      \", temp_encoded)    # 1 - H, 0 - C, 2 - M\n",
        "\n",
        "wind_encoded = le.fit_transform(wind)\n",
        "print(\"Wind:      \", wind_encoded)    # 1 - True, 0 - False\n",
        "\n",
        "humidity_encoded = le.fit_transform(humidity)\n",
        "print(\"Humidity : \", humidity_encoded)  # 1 - Normal, 2 - High, 0 - Low\n",
        "\n",
        "target = le.fit_transform(class_label)\n",
        "print(\"Class :    \", target)\n"
      ],
      "execution_count": null,
      "outputs": [
        {
          "output_type": "stream",
          "name": "stdout",
          "text": [
            "Outlook:    [1 1 0 1 2 0 0 1 0 2 1 0 0 2]\n",
            "Temp:       [1 1 1 2 0 0 0 2 0 2 0 2 1 2]\n",
            "Wind:       [0 1 0 0 0 1 1 0 0 0 1 1 0 1]\n",
            "Humidity :  [1 2 1 1 1 0 1 1 0 2 2 0 1 1]\n",
            "Class :     [0 0 1 1 1 0 1 0 1 1 0 1 1 0]\n"
          ]
        }
      ]
    },
    {
      "cell_type": "code",
      "metadata": {
        "colab": {
          "base_uri": "https://localhost:8080/"
        },
        "id": "jz3x582-0eA5",
        "outputId": "43185510-5d11-4c4a-87e0-5ef2f00d92bc"
      },
      "source": [
        "# Merging label encoded features\n",
        "features = tuple(zip(outlook_encoded, temp_encoded, wind_encoded, humidity_encoded))\n",
        "print(\"Features: \", features)"
      ],
      "execution_count": null,
      "outputs": [
        {
          "output_type": "stream",
          "name": "stdout",
          "text": [
            "Features:  ((1, 1, 0, 1), (1, 1, 1, 2), (0, 1, 0, 1), (1, 2, 0, 1), (2, 0, 0, 1), (0, 0, 1, 0), (0, 0, 1, 1), (1, 2, 0, 1), (0, 0, 0, 0), (2, 2, 0, 2), (1, 0, 1, 2), (0, 2, 1, 0), (0, 1, 0, 1), (2, 2, 1, 1))\n"
          ]
        }
      ]
    },
    {
      "cell_type": "code",
      "metadata": {
        "id": "RK8VPIBl0iYz"
      },
      "source": [
        "#import the necessary module\n",
        "from sklearn.model_selection import train_test_split\n",
        "\n",
        "#split data set into train and test sets\n",
        "data_train, data_test, target_train, target_test = train_test_split(features,\n",
        "                        target, test_size = 0.05, random_state = 139)"
      ],
      "execution_count": null,
      "outputs": []
    },
    {
      "cell_type": "markdown",
      "metadata": {
        "id": "rGJLP2py0uVG"
      },
      "source": [
        "Model 1 - Multinomial Naive Bayes"
      ]
    },
    {
      "cell_type": "code",
      "metadata": {
        "colab": {
          "base_uri": "https://localhost:8080/"
        },
        "id": "WCv2qosH0yMJ",
        "outputId": "bbd7b6cf-dc75-4329-ad22-7ad9ba5f9aec"
      },
      "source": [
        "# Let's train 1st model\n",
        "model1 = MultinomialNB()\n",
        "# Train the model using the training sets\n",
        "model1.fit(data_train, target_train)"
      ],
      "execution_count": null,
      "outputs": [
        {
          "output_type": "execute_result",
          "data": {
            "text/plain": [
              "MultinomialNB(alpha=1.0, class_prior=None, fit_prior=True)"
            ]
          },
          "metadata": {},
          "execution_count": 8
        }
      ]
    },
    {
      "cell_type": "code",
      "metadata": {
        "id": "OC-EGSk905Qf"
      },
      "source": [
        "# Testing model1\n",
        "# Division train test is 95 : 5\n",
        "target_pred_model1 = model1.predict(data_test)\n",
        "# print(data_test)\n",
        "# print(target_pred_model1)\n",
        "# print(target_test)"
      ],
      "execution_count": null,
      "outputs": []
    },
    {
      "cell_type": "code",
      "metadata": {
        "colab": {
          "base_uri": "https://localhost:8080/"
        },
        "id": "cV7y9jV809Ql",
        "outputId": "52a9599e-94f8-4f9f-d3bc-efc010b7ff44"
      },
      "source": [
        "# 1st question\n",
        "predicted1 = model1.predict([[1,2,1,1]])    # 1:Rainy, 2: Mild, 1: Normal, 1: True\n",
        "print(\"Predicted Value:\", predicted1)"
      ],
      "execution_count": null,
      "outputs": [
        {
          "output_type": "stream",
          "name": "stdout",
          "text": [
            "Predicted Value: [1]\n"
          ]
        }
      ]
    },
    {
      "cell_type": "code",
      "metadata": {
        "colab": {
          "base_uri": "https://localhost:8080/"
        },
        "id": "UKHsSIjH0_N_",
        "outputId": "c18697f0-b656-454c-b969-4b85bea66f92"
      },
      "source": [
        "# 2nd question\n",
        "predicted2 = model1.predict([[2,0,2,1]])    # 2:Sunny, 0:Cool, 2:High, 1:True\n",
        "print(\"Predicted Value:\", predicted2)"
      ],
      "execution_count": null,
      "outputs": [
        {
          "output_type": "stream",
          "name": "stdout",
          "text": [
            "Predicted Value: [0]\n"
          ]
        }
      ]
    },
    {
      "cell_type": "code",
      "metadata": {
        "colab": {
          "base_uri": "https://localhost:8080/"
        },
        "id": "I22wfA-j1KjS",
        "outputId": "d4082034-77c4-4fa6-df79-e5517e01ccfe"
      },
      "source": [
        "# 3rd question\n",
        "\n",
        "# Accuracy\n",
        "print(\"Accuracy: \", accuracy_score(target_test, target_pred_model1))\n",
        "\n",
        "# Precision\n",
        "print(\"Precision: \", precision_score(target_test, target_pred_model1))\n",
        "\n",
        "# Recall\n",
        "print(\"Recall: \", recall_score(target_test, target_pred_model1))"
      ],
      "execution_count": null,
      "outputs": [
        {
          "output_type": "stream",
          "name": "stdout",
          "text": [
            "Accuracy:  1.0\n",
            "Precision:  1.0\n",
            "Recall:  1.0\n"
          ]
        }
      ]
    },
    {
      "cell_type": "markdown",
      "metadata": {
        "id": "WpRm8Fww1k1q"
      },
      "source": [
        "Model 2 - Gaussian Naive Bayes"
      ]
    },
    {
      "cell_type": "code",
      "metadata": {
        "colab": {
          "base_uri": "https://localhost:8080/"
        },
        "id": "_WVhQaow1uiy",
        "outputId": "9527f244-26fd-496c-9d69-87ca37af17a1"
      },
      "source": [
        "# Let's train 2nd model\n",
        "model2 = GaussianNB()\n",
        "\n",
        "#Train the model using the training sets\n",
        "model2.fit(data_train, target_train)"
      ],
      "execution_count": null,
      "outputs": [
        {
          "output_type": "execute_result",
          "data": {
            "text/plain": [
              "GaussianNB(priors=None, var_smoothing=1e-09)"
            ]
          },
          "metadata": {},
          "execution_count": 13
        }
      ]
    },
    {
      "cell_type": "code",
      "metadata": {
        "id": "gsTuJ4_B13Dq"
      },
      "source": [
        "# Testing model2\n",
        "# Division train test is 95 : 5\n",
        "target_pred_model2 = model2.predict(data_test)\n",
        "# print(data_test)\n",
        "# print(target_pred_model1)\n",
        "# print(target_test)"
      ],
      "execution_count": null,
      "outputs": []
    },
    {
      "cell_type": "code",
      "metadata": {
        "colab": {
          "base_uri": "https://localhost:8080/"
        },
        "id": "VjuRSrsw17t2",
        "outputId": "657e33a1-2501-43f6-9399-7738f183d55b"
      },
      "source": [
        "# 1st question\n",
        "predicted3 = model2.predict([[1,2,1,1]])    # 1:Rainy, 2: Mild, 1: Normal, 1: True\n",
        "print(\"Predicted Value:\", predicted3)"
      ],
      "execution_count": null,
      "outputs": [
        {
          "output_type": "stream",
          "name": "stdout",
          "text": [
            "Predicted Value: [0]\n"
          ]
        }
      ]
    },
    {
      "cell_type": "code",
      "metadata": {
        "colab": {
          "base_uri": "https://localhost:8080/"
        },
        "id": "FRbwkgKa2BO5",
        "outputId": "7945f259-6410-410f-decc-6cfe99bd1424"
      },
      "source": [
        "# 2nd question\n",
        "predicted4 = model2.predict([[2,0,2,1]])    # 2:Sunny, 0:Cool, 2:High, 1:True\n",
        "print(\"Predicted Value:\", predicted4)"
      ],
      "execution_count": null,
      "outputs": [
        {
          "output_type": "stream",
          "name": "stdout",
          "text": [
            "Predicted Value: [0]\n"
          ]
        }
      ]
    },
    {
      "cell_type": "code",
      "metadata": {
        "colab": {
          "base_uri": "https://localhost:8080/"
        },
        "id": "iWixNNxL2GLp",
        "outputId": "965de743-bde8-4d02-f061-3054e62cb3d8"
      },
      "source": [
        "# 3rd question\n",
        "\n",
        "# Accuracy\n",
        "print(\"Accuracy: \", accuracy_score(target_test, target_pred_model2))\n",
        "\n",
        "# Precision\n",
        "print(\"Precision: \", precision_score(target_test, target_pred_model2))\n",
        "\n",
        "# Recall\n",
        "print(\"Recall: \", recall_score(target_test, target_pred_model2))"
      ],
      "execution_count": null,
      "outputs": [
        {
          "output_type": "stream",
          "name": "stdout",
          "text": [
            "Accuracy:  1.0\n",
            "Precision:  1.0\n",
            "Recall:  1.0\n"
          ]
        }
      ]
    }
  ]
}